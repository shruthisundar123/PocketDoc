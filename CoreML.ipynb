{
  "nbformat": 4,
  "nbformat_minor": 0,
  "metadata": {
    "colab": {
      "provenance": []
    },
    "kernelspec": {
      "name": "python3",
      "display_name": "Python 3"
    },
    "language_info": {
      "name": "python"
    }
  },
  "cells": [
    {
      "cell_type": "markdown",
      "source": [
        "# Disease Symptoms and Patient Profiles (First Try)"
      ],
      "metadata": {
        "id": "yDKIyjXb6j2q"
      }
    },
    {
      "cell_type": "code",
      "source": [
        "# from google.colab import drive\n",
        "# drive.mount('/content/drive')"
      ],
      "metadata": {
        "id": "iWjOLBPIugmF"
      },
      "execution_count": null,
      "outputs": []
    },
    {
      "cell_type": "code",
      "execution_count": null,
      "metadata": {
        "id": "HmQJ5gSEhQjE"
      },
      "outputs": [],
      "source": [
        "\n",
        "# !pwd\n",
        "\n",
        "# import pandas as pd\n",
        "# import numpy as np\n",
        "# import tensorflow as tf\n",
        "# from sklearn.model_selection import train_test_split\n",
        "# from sklearn.preprocessing import MinMaxScaler\n",
        "\n",
        "# df = pd.read_csv('/content/drive/MyDrive/Disease_symptom_and_patient_profile_dataset.csv')\n",
        "\n",
        "# print(df)\n",
        "# \"\"\"\n",
        "# x_data = df.drop(\"Disease\", axis = 1)\n",
        "# y_val = df[\"Disease\"]\n",
        "\n",
        "# x_train, x_eval, y_train, y_eval = train_test_split(x_data, y_val, test_size=0.3, random_state=101)\n",
        "\n",
        "# scaler_model = MinMaxScaler()\n",
        "# scaler_model.fit(x_train)\n",
        "\n",
        "# x_train = pd.DataFrame(scaler_model.transform(x_train), columns = x_train.columns, index = x_train.index)\n",
        "\n",
        "# scaler_model.fit(x_eval)\n",
        "\n",
        "# x_eval = pd.DataFrame(scaler_model.transform(x_eval), columns = x_eval.columns, index = x_eval.index)\n",
        "\n",
        "# # Creating Feature Columns for Estimator API\n",
        "# feat_cols = []\n",
        "# for cols in df.columns[:-1]:\n",
        "#     column = tf.feature_column.numeric_column(cols)\n",
        "#     feat_cols.append(column)\n",
        "\n",
        "# print(feat_cols)\n",
        "# \"\"\""
      ]
    },
    {
      "cell_type": "code",
      "source": [
        "# import cohere\n",
        "# from cohere.responses.classify import Example\n",
        "# co = cohere.Client('MCu6Xkwbxvt84Zaedqz4JGRKtocaMIfOMqraeWdQ') # This is your trial API key\n",
        "# response = co.classify(\n",
        "#   model='embed-english-v2.0',\n",
        "#   inputs = listInputs,\n",
        "#   examples=[Example(\"I\\'ve been having a really bad rash on my skin lately. It\\'s full of pus-filled pimples and blackheads. My skin has also been scurring a lot.\", \"Acne\"), Example(\"I\\'ve just developed a severe rash on my skin. It\\'s clogged with pus-filled pimples and blackheads. My skin has also been quite sensitive.\", \"Acne\"), Example(\"I have a runny nose and I am sneezing all the time. My eyes are itchy and often watery, and I am coughing all the time. My head hurts and all the time\", \"allergy\"), Example(\"I have sore throat and I am sneezing all the time. Sometimes I have swelling on my face like my lips and near my eyes. I just cant stop sneezing once I start sneezing\", \"allergy\"), Example(\"My muscles have been feeling really weak, and my neck has been extremely tight. I\\'ve been experiencing a lot of stiffness when I walk about and my joints have been swollen. Walking has also been really uncomfortable.\", \"Arthritis\"), Example(\"I\\'ve been feeling really weak in my muscles and my neck has been really stiff. My joints have been swelling up and I\\'ve been having a lot of stiffness when I move around. It\\'s also been really painful to walk.\", \"Arthritis\"), Example(\"I have been feeling extremely tired and weak, and I\\'ve also been coughing a lot with difficulty breathing. My fever is very high, and I\\'m producing a lot of mucus when I cough.\", \"Bronchial Asthma\"), Example(\"I\\'ve got a cough that won\\'t go away, and I\\'m exhausted. I\\'ve been coughing up thick mucous and my fever is also pretty high.\", \"Bronchial Asthma\"), Example(\"I have been experiencing severe back pain, a persistent cough, and weakness in my limbs. My neck also hurts and I have been feeling dizzy and off balance.\", \"Cervical spondylosis\"), Example(\"Along with a chronic cough and limb weakness, I\\'ve been dealing with excruciating back discomfort. I\\'ve been experiencing neck pain as well as vertigo and instability.\", \"Cervical spondylosis\"), Example(\"I\\'ve been experiencing intense itching all over my skin, and it\\'s driving me crazy. I also have a rash that\\'s red and inflamed.\", \"Chicken pox\"), Example(\"I\\'m feeling fatigued and have no energy. I can barely keep my eyes open during the day, and I\\'ve been feeling lethargic and unable to motivate myself.\", \"Chicken pox\"), Example(\"I can\\'t stop sneezing and my nose is really runny. I\\'m also really cold and tired all the time, and I\\'ve been coughing a lot. My fever is really high too, like way above normal.\", \"Common Cold\"), Example(\"My nose is extremely runny, and I can\\'t seem to stop sneezing. In addition, I constantly feel cold, exhausted, and I\\'ve been coughing a lot. My fever is also really high far above normal.\", \"Common Cold\"), Example(\"I am facing severe joint pain and vomitting. I have developed a skin rash that covers my entire body and is accompanied by intense itching. \", \"Dengue\"), Example(\"I have been experiencing chills and shivering, despite being in a warm environment. My back pains all the time and there are red spots on my arms.\", \"Dengue\"), Example(\"I have increased thirst and frequent urination. I often have a dry mouth and throat. Recently I have been having increased hunger and appetite\", \"diabetes\"), Example(\"I have blurred vision and it only seems to be getting worse. I feel fatigued and tired all the time. I also feel very dizzy and light headed at times\", \"diabetes\"), Example(\"I have a dry mouth and throat. I also have been experiencing an increased appetite and hunger. However I do feel very tired at times\", \"diabetes\"), Example(\"I have slow healing of wounds and cuts. I have this tingling sensation in my hand and numbness in both my hands and feet\", \"diabetes\"), Example(\"Constipation, discomfort with bowel motions, and anus pain have all recently been bothering me. My anus has been quite inflamed, and my stool has been extremely bloody.\", \"Dimorphic Hemorrhoids\"), Example(\"Lately I\\'ve been experiencing constipation, pain during bowel movements, and pain in my anus. My stool has also been really bloody and my anus has been really irritated.\", \"Dimorphic Hemorrhoids\"), Example(\"I have a metallic taste in my mouth, and also have a sense of change of taste and smell. Sometimes get very unbearable joint pain and muscle pain\", \"drug reaction\"), Example(\"I have headaches and migraines, have been having difficulty sleeping. I have been having muscle twitching and tremors. Sometimes I get lightheaded\", \"drug reaction\"), Example(\"I have raised lumps, a rash that looks red and inflamed, discoloured areas of skin that are different colours from the rest of my skin, and itching on my skin.\", \"Fungal infection\"), Example(\"All over my body, there has been a severe itching that has been followed by a red, bumpy rash. My skin also has a few darkened spots and a few tiny, nodular breakouts. It has been happening for several days and is becoming worse.\", \"Fungal infection\"), Example(\"I often get aburning sensation in my throat while and especially after eating. Sometimes this also leaves a sour or bitter taste in my mouth and I get nauseos beacuse of this\", \"gastroesophageal reflux disease\"), Example(\"I have heartburn and indigestion. I often vomit whatever I eat and have difficultly swallowing food, beacuse the food gets stuck in my throat. I have a nagging pain in my upper abdomen\", \"gastroesophageal reflux disease\"), Example(\"I have been experiencing a headache, chest pain, dizziness, and difficulty maintaining my balance. I also feel like I am having trouble concentrating\", \"Hypertension\"), Example(\"Along with a headache, chest pain, instability, and balance issues, I\\'ve also been feeling dizzy. I also think I\\'m having problems focusing.\", \"Hypertension\"), Example(\"I have developed a skin rash on my face and neck. The rash is made up of red sores that are blistering. I am worried about my health.\", \"Impetigo\"), Example(\"I have developed skin rashes made up of blistering sores. The blistering sores are raised, fluid-filled lesions and they are painful to touch. I am also suffering from a high fever.\", \"Impetigo\"), Example(\"I have been experiencing intense itching, vomiting, and fatigue. I have also lost weight and have a high fever. My skin has turned yellow and my urine is dark. I have also been experiencing abdominal pain.\", \"Jaundice\"), Example(\"I\\'ve been feeling extremely scratchy, sick, and worn out. In addition, I\\'ve lost weight and have a temperature. My urine is dark, and my skin has turned yellow. Additionally, I\\'ve been having stomach pain.\", \"Jaundice\"), Example(\"I\\'ve been experiencing severe itching, chills, vomiting, and a high fever. I\\'m also sweating a lot and have a headache. I feel nauseous and my muscles are really sore\", \"Malaria\"), Example(\"I\\'ve had a high temperature, vomiting, chills, and intense itching. I also have a headache and am perspiring a lot. I\\'m queasy, and my muscles hurt a lot.\", \"Malaria\"), Example(\"I have been experiencing acidity and indigestion after meals, as well as frequent headaches and blurred vision.\", \"Migraine\"), Example(\"I\\'ve been getting frequent headaches and hazy vision, as well as acid reflux and indigestion after meals.\", \"Migraine\"), Example(\"I have a burning sensation in my upper abdomen, ofetn between or at night. I have heartburn and indigestion and often feel very nauseous\", \"peptic ulcer disease\"), Example(\"I have bloating and a feeling of uneasiness. I have been experiencing weight loss and a loss of appetite. Sometimes I have dark and tarry stools and blood in my vomit\", \"peptic ulcer disease\"), Example(\"I\\'ve been feeling really cold and tired lately, and I\\'ve been coughing a lot with chest pain. My heart is beating really fast too, and when I cough, the phlegm is kind of a rusty color.\", \"Pneumonia\"), Example(\"I\\'ve been coughing a lot recently with chest pain and feeling incredibly chilly and exhausted. Additionally, my heart is thumping rapidly, and the phlegm I cough up has a reddish hue.\", \"Pneumonia\"), Example(\"I have been experiencing a skin rash on my arms, legs, and torso for the past few weeks. It is red, itchy, and covered in dry, scaly patches.\", \"Psoriasis\"), Example(\"My skin has been peeling, especially on my knees, elbows, and scalp. This peeling is often accompanied by a burning or stinging sensation.\", \"Psoriasis\"), Example(\"I have constipation and belly pain, and it\\'s been really uncomfortable. The belly pain has been getting worse and is starting to affect my daily life. Moreover, I get chills every night, followed by a mild fever.\", \"Typhoid\"), Example(\"I\\'ve also had some diarrhea, which has been really unpleasant. It\\'s been coming and going, and it\\'s been accompanied by abdominal cramps and bloating.\", \"Typhoid\"), Example(\"Frequent urges to urinate with little output, pain during urination, cloudy or bloody urine, strong or foul-smelling urine, pelvic pain, low fever, nausea and vomiting\", \"urinary tract infection\"), Example(\"I get frequent urges to urinate at night with little output, and a lot of pain during urination. The urine is coludy and bloody and sometime foul smelling, and I get nauseous\", \"urinary tract infection\"), Example(\"I have a rash on my legs that is causing a lot of discomforts. It seems there is a cramp and I can see prominent veins on the calf. Also, I have been feeling very tired and fatigued in the past couple of days.\", \"Varicose Veins\"), Example(\"My calves have been cramping up when I walk or stand for long periods of time. There are bruise marks on my calves, which is making me worried. I feel tired very soon.\", \"Varicose Veins\")])\n",
        "# print('The confidence levels of the labels are: {}'.format(response.classifications))"
      ],
      "metadata": {
        "id": "D7rZluZI5RFl"
      },
      "execution_count": null,
      "outputs": []
    },
    {
      "cell_type": "code",
      "source": [
        "# symptom = input(\"What do you feel: \")\n",
        "# listInputs = [symptom]"
      ],
      "metadata": {
        "id": "oc5PHEtTH21T"
      },
      "execution_count": null,
      "outputs": []
    },
    {
      "cell_type": "markdown",
      "source": [
        "# Symptom 2 Disease Dataset (2nd Try)"
      ],
      "metadata": {
        "id": "mSA2rZ6k6wOw"
      }
    },
    {
      "cell_type": "code",
      "source": [
        "pip install cohere"
      ],
      "metadata": {
        "id": "GMhuIHcMoK0-"
      },
      "execution_count": null,
      "outputs": []
    },
    {
      "cell_type": "code",
      "source": [
        "import cohere\n",
        "co = cohere.Client('MCu6Xkwbxvt84Zaedqz4JGRKtocaMIfOMqraeWdQ')"
      ],
      "metadata": {
        "id": "TyekAtle1hjE"
      },
      "execution_count": null,
      "outputs": []
    },
    {
      "cell_type": "code",
      "source": [
        "symptom = input(\"What do you feel: \")\n",
        "listInputs = [symptom]\n",
        "\n",
        "import cohere\n",
        "from cohere.responses.classify import Example\n",
        "co = cohere.Client('MCu6Xkwbxvt84Zaedqz4JGRKtocaMIfOMqraeWdQ') # This is your trial API key\n",
        "response = co.classify(\n",
        "  model='embed-english-v2.0',\n",
        "  inputs = listInputs,\n",
        "  examples=[Example(\"I\\'ve been having a really bad rash on my skin lately. It\\'s full of pus-filled pimples and blackheads. My skin has also been scurring a lot.\", \"Acne\"), Example(\"I\\'ve just developed a severe rash on my skin. It\\'s clogged with pus-filled pimples and blackheads. My skin has also been quite sensitive.\", \"Acne\"), Example(\"I have a runny nose and I am sneezing all the time. My eyes are itchy and often watery, and I am coughing all the time. My head hurts and all the time\", \"allergy\"), Example(\"I have sore throat and I am sneezing all the time. Sometimes I have swelling on my face like my lips and near my eyes. I just cant stop sneezing once I start sneezing\", \"allergy\"), Example(\"My muscles have been feeling really weak, and my neck has been extremely tight. I\\'ve been experiencing a lot of stiffness when I walk about and my joints have been swollen. Walking has also been really uncomfortable.\", \"Arthritis\"), Example(\"I\\'ve been feeling really weak in my muscles and my neck has been really stiff. My joints have been swelling up and I\\'ve been having a lot of stiffness when I move around. It\\'s also been really painful to walk.\", \"Arthritis\"), Example(\"I have been feeling extremely tired and weak, and I\\'ve also been coughing a lot with difficulty breathing. My fever is very high, and I\\'m producing a lot of mucus when I cough.\", \"Bronchial Asthma\"), Example(\"I\\'ve got a cough that won\\'t go away, and I\\'m exhausted. I\\'ve been coughing up thick mucous and my fever is also pretty high.\", \"Bronchial Asthma\"), Example(\"I have been experiencing severe back pain, a persistent cough, and weakness in my limbs. My neck also hurts and I have been feeling dizzy and off balance.\", \"Cervical spondylosis\"), Example(\"Along with a chronic cough and limb weakness, I\\'ve been dealing with excruciating back discomfort. I\\'ve been experiencing neck pain as well as vertigo and instability.\", \"Cervical spondylosis\"), Example(\"I\\'ve been experiencing intense itching all over my skin, and it\\'s driving me crazy. I also have a rash that\\'s red and inflamed.\", \"Chicken pox\"), Example(\"I\\'m feeling fatigued and have no energy. I can barely keep my eyes open during the day, and I\\'ve been feeling lethargic and unable to motivate myself.\", \"Chicken pox\"), Example(\"I can\\'t stop sneezing and my nose is really runny. I\\'m also really cold and tired all the time, and I\\'ve been coughing a lot. My fever is really high too, like way above normal.\", \"Common Cold\"), Example(\"My nose is extremely runny, and I can\\'t seem to stop sneezing. In addition, I constantly feel cold, exhausted, and I\\'ve been coughing a lot. My fever is also really high far above normal.\", \"Common Cold\"), Example(\"I am facing severe joint pain and vomitting. I have developed a skin rash that covers my entire body and is accompanied by intense itching. \", \"Dengue\"), Example(\"I have been experiencing chills and shivering, despite being in a warm environment. My back pains all the time and there are red spots on my arms.\", \"Dengue\"), Example(\"I have increased thirst and frequent urination. I often have a dry mouth and throat. Recently I have been having increased hunger and appetite\", \"diabetes\"), Example(\"I have blurred vision and it only seems to be getting worse. I feel fatigued and tired all the time. I also feel very dizzy and light headed at times\", \"diabetes\"), Example(\"I have a dry mouth and throat. I also have been experiencing an increased appetite and hunger. However I do feel very tired at times\", \"diabetes\"), Example(\"I have slow healing of wounds and cuts. I have this tingling sensation in my hand and numbness in both my hands and feet\", \"diabetes\"), Example(\"Constipation, discomfort with bowel motions, and anus pain have all recently been bothering me. My anus has been quite inflamed, and my stool has been extremely bloody.\", \"Dimorphic Hemorrhoids\"), Example(\"Lately I\\'ve been experiencing constipation, pain during bowel movements, and pain in my anus. My stool has also been really bloody and my anus has been really irritated.\", \"Dimorphic Hemorrhoids\"), Example(\"I have a metallic taste in my mouth, and also have a sense of change of taste and smell. Sometimes get very unbearable joint pain and muscle pain\", \"drug reaction\"), Example(\"I have headaches and migraines, have been having difficulty sleeping. I have been having muscle twitching and tremors. Sometimes I get lightheaded\", \"drug reaction\"), Example(\"I have raised lumps, a rash that looks red and inflamed, discoloured areas of skin that are different colours from the rest of my skin, and itching on my skin.\", \"Fungal infection\"), Example(\"All over my body, there has been a severe itching that has been followed by a red, bumpy rash. My skin also has a few darkened spots and a few tiny, nodular breakouts. It has been happening for several days and is becoming worse.\", \"Fungal infection\"), Example(\"I often get aburning sensation in my throat while and especially after eating. Sometimes this also leaves a sour or bitter taste in my mouth and I get nauseos beacuse of this\", \"gastroesophageal reflux disease\"), Example(\"I have heartburn and indigestion. I often vomit whatever I eat and have difficultly swallowing food, beacuse the food gets stuck in my throat. I have a nagging pain in my upper abdomen\", \"gastroesophageal reflux disease\"), Example(\"I have been experiencing a headache, chest pain, dizziness, and difficulty maintaining my balance. I also feel like I am having trouble concentrating\", \"Hypertension\"), Example(\"Along with a headache, chest pain, instability, and balance issues, I\\'ve also been feeling dizzy. I also think I\\'m having problems focusing.\", \"Hypertension\"), Example(\"I have developed a skin rash on my face and neck. The rash is made up of red sores that are blistering. I am worried about my health.\", \"Impetigo\"), Example(\"I have developed skin rashes made up of blistering sores. The blistering sores are raised, fluid-filled lesions and they are painful to touch. I am also suffering from a high fever.\", \"Impetigo\"), Example(\"I have been experiencing intense itching, vomiting, and fatigue. I have also lost weight and have a high fever. My skin has turned yellow and my urine is dark. I have also been experiencing abdominal pain.\", \"Jaundice\"), Example(\"I\\'ve been feeling extremely scratchy, sick, and worn out. In addition, I\\'ve lost weight and have a temperature. My urine is dark, and my skin has turned yellow. Additionally, I\\'ve been having stomach pain.\", \"Jaundice\"), Example(\"I\\'ve been experiencing severe itching, chills, vomiting, and a high fever. I\\'m also sweating a lot and have a headache. I feel nauseous and my muscles are really sore\", \"Malaria\"), Example(\"I\\'ve had a high temperature, vomiting, chills, and intense itching. I also have a headache and am perspiring a lot. I\\'m queasy, and my muscles hurt a lot.\", \"Malaria\"), Example(\"I have been experiencing acidity and indigestion after meals, as well as frequent headaches and blurred vision.\", \"Migraine\"), Example(\"I\\'ve been getting frequent headaches and hazy vision, as well as acid reflux and indigestion after meals.\", \"Migraine\"), Example(\"I have a burning sensation in my upper abdomen, ofetn between or at night. I have heartburn and indigestion and often feel very nauseous\", \"peptic ulcer disease\"), Example(\"I have bloating and a feeling of uneasiness. I have been experiencing weight loss and a loss of appetite. Sometimes I have dark and tarry stools and blood in my vomit\", \"peptic ulcer disease\"), Example(\"I\\'ve been feeling really cold and tired lately, and I\\'ve been coughing a lot with chest pain. My heart is beating really fast too, and when I cough, the phlegm is kind of a rusty color.\", \"Pneumonia\"), Example(\"I\\'ve been coughing a lot recently with chest pain and feeling incredibly chilly and exhausted. Additionally, my heart is thumping rapidly, and the phlegm I cough up has a reddish hue.\", \"Pneumonia\"), Example(\"I have been experiencing a skin rash on my arms, legs, and torso for the past few weeks. It is red, itchy, and covered in dry, scaly patches.\", \"Psoriasis\"), Example(\"My skin has been peeling, especially on my knees, elbows, and scalp. This peeling is often accompanied by a burning or stinging sensation.\", \"Psoriasis\"), Example(\"I have constipation and belly pain, and it\\'s been really uncomfortable. The belly pain has been getting worse and is starting to affect my daily life. Moreover, I get chills every night, followed by a mild fever.\", \"Typhoid\"), Example(\"I\\'ve also had some diarrhea, which has been really unpleasant. It\\'s been coming and going, and it\\'s been accompanied by abdominal cramps and bloating.\", \"Typhoid\"), Example(\"Frequent urges to urinate with little output, pain during urination, cloudy or bloody urine, strong or foul-smelling urine, pelvic pain, low fever, nausea and vomiting\", \"urinary tract infection\"), Example(\"I get frequent urges to urinate at night with little output, and a lot of pain during urination. The urine is coludy and bloody and sometime foul smelling, and I get nauseous\", \"urinary tract infection\"), Example(\"I have a rash on my legs that is causing a lot of discomforts. It seems there is a cramp and I can see prominent veins on the calf. Also, I have been feeling very tired and fatigued in the past couple of days.\", \"Varicose Veins\"), Example(\"My calves have been cramping up when I walk or stand for long periods of time. There are bruise marks on my calves, which is making me worried. I feel tired very soon.\", \"Varicose Veins\")])\n",
        "# print('The confidence levels of the labels are: {}'.format(response.classifications))\n",
        "\n",
        "for classification in response.classifications:\n",
        "  data = classification.labels\n",
        "\n",
        "\n",
        "for i in data:\n",
        "  j = data[i]\n",
        "  j = j[0]\n",
        "  data[i] = j\n",
        "\n",
        "\n",
        "no1 = sorted(data.values())[-1]\n",
        "no2 = sorted(data.values())[-2]\n",
        "no3 = sorted(data.values())[-3]\n",
        "\n",
        "inverse_data = {}\n",
        "for s in data:\n",
        "  inverse_data[data[s]] = s\n",
        "\n",
        "print (f\"MOST LIKELY DIAGNOSIS IS: {inverse_data[no1]} with a probability of {no1*100:.2f}%\\n\")\n",
        "print (f\"2nd most likely is: {inverse_data[no2]} with a probability of {no2*100:.2f}%\\n\")\n",
        "print (f\"3rd most likely is: {inverse_data[no3]} with a probability of {no3*100:.2f}%\")\n",
        "\n",
        "\n",
        "\n",
        "\n"
      ],
      "metadata": {
        "colab": {
          "base_uri": "https://localhost:8080/"
        },
        "id": "at2oA-95PGtp",
        "outputId": "18500180-558a-4de8-83e0-11e120c0ecb9"
      },
      "execution_count": null,
      "outputs": [
        {
          "output_type": "stream",
          "name": "stdout",
          "text": [
            "What do you feel: I've been coughing all day and my chest hurts a bit\n",
            "MOST LIKELY DIAGNOSIS IS: Pneumonia with a probability of 86.29%\n",
            "\n",
            "2nd most likely is: Bronchial Asthma with a probability of 9.34%\n",
            "\n",
            "3rd most likely is: allergy with a probability of 1.33%\n"
          ]
        }
      ]
    }
  ]
}